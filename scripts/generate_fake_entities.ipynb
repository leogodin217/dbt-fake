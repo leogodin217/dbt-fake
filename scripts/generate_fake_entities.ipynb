{
 "cells": [
  {
   "cell_type": "code",
   "execution_count": 20,
   "metadata": {},
   "outputs": [],
   "source": [
    "import faker\n",
    "import pandas as pd\n",
    "import faker_commerce\n",
    "import random\n",
    "from datetime import date, timedelta\n",
    "fake = faker.Faker()\n",
    "fake.add_provider(faker_commerce.Provider)\n",
    "\n",
    "pd.set_option('display.max_colwidth', None)"
   ]
  },
  {
   "cell_type": "markdown",
   "metadata": {},
   "source": [
    "## Create fake companies"
   ]
  },
  {
   "cell_type": "code",
   "execution_count": null,
   "metadata": {},
   "outputs": [],
   "source": [
    "## Utilities"
   ]
  },
  {
   "cell_type": "code",
   "execution_count": 4,
   "metadata": {},
   "outputs": [],
   "source": [
    "def get_unique_fakes(provider, num_records):\n",
    "    # To ensure we get enough records we will initially generate 2X the number needed \n",
    "    records = [provider() for x in range(num_records * 2)]\n",
    "    unique_records = list(set(records))\n",
    "    if len(unique_records) < num_records:\n",
    "        raise Exception('Not enough unique records. Try generating fewer records.')\n",
    "    return unique_records[0:num_records]\n"
   ]
  },
  {
   "cell_type": "markdown",
   "metadata": {},
   "source": [
    "## Create fake companies"
   ]
  },
  {
   "cell_type": "code",
   "execution_count": 5,
   "metadata": {},
   "outputs": [
    {
     "data": {
      "text/html": [
       "<div>\n",
       "<style scoped>\n",
       "    .dataframe tbody tr th:only-of-type {\n",
       "        vertical-align: middle;\n",
       "    }\n",
       "\n",
       "    .dataframe tbody tr th {\n",
       "        vertical-align: top;\n",
       "    }\n",
       "\n",
       "    .dataframe thead th {\n",
       "        text-align: right;\n",
       "    }\n",
       "</style>\n",
       "<table border=\"1\" class=\"dataframe\">\n",
       "  <thead>\n",
       "    <tr style=\"text-align: right;\">\n",
       "      <th></th>\n",
       "      <th>name</th>\n",
       "      <th>slogan</th>\n",
       "      <th>purpose</th>\n",
       "    </tr>\n",
       "    <tr>\n",
       "      <th>id</th>\n",
       "      <th></th>\n",
       "      <th></th>\n",
       "      <th></th>\n",
       "    </tr>\n",
       "  </thead>\n",
       "  <tbody>\n",
       "    <tr>\n",
       "      <th>0</th>\n",
       "      <td>Moreno, Ramirez and Williams Ltd</td>\n",
       "      <td>Enterprise-wide intermediate framework</td>\n",
       "      <td>productize viral experiences</td>\n",
       "    </tr>\n",
       "    <tr>\n",
       "      <th>1</th>\n",
       "      <td>Bush, Tanner and Alexander Ltd</td>\n",
       "      <td>User-friendly user-facing customer loyalty</td>\n",
       "      <td>innovate mission-critical niches</td>\n",
       "    </tr>\n",
       "    <tr>\n",
       "      <th>2</th>\n",
       "      <td>Armstrong LLC LLC</td>\n",
       "      <td>Up-sized secondary hardware</td>\n",
       "      <td>orchestrate ubiquitous relationships</td>\n",
       "    </tr>\n",
       "    <tr>\n",
       "      <th>3</th>\n",
       "      <td>Henderson, Flowers and Best LLC</td>\n",
       "      <td>Networked asymmetric moratorium</td>\n",
       "      <td>disintermediate B2B users</td>\n",
       "    </tr>\n",
       "    <tr>\n",
       "      <th>4</th>\n",
       "      <td>Leonard, Hamilton and Harper PLC</td>\n",
       "      <td>Enterprise-wide incremental matrices</td>\n",
       "      <td>scale real-time supply-chains</td>\n",
       "    </tr>\n",
       "  </tbody>\n",
       "</table>\n",
       "</div>"
      ],
      "text/plain": [
       "                                name  \\\n",
       "id                                     \n",
       "0   Moreno, Ramirez and Williams Ltd   \n",
       "1     Bush, Tanner and Alexander Ltd   \n",
       "2                  Armstrong LLC LLC   \n",
       "3    Henderson, Flowers and Best LLC   \n",
       "4   Leonard, Hamilton and Harper PLC   \n",
       "\n",
       "                                        slogan  \\\n",
       "id                                               \n",
       "0       Enterprise-wide intermediate framework   \n",
       "1   User-friendly user-facing customer loyalty   \n",
       "2                  Up-sized secondary hardware   \n",
       "3              Networked asymmetric moratorium   \n",
       "4         Enterprise-wide incremental matrices   \n",
       "\n",
       "                                 purpose  \n",
       "id                                        \n",
       "0           productize viral experiences  \n",
       "1       innovate mission-critical niches  \n",
       "2   orchestrate ubiquitous relationships  \n",
       "3              disintermediate B2B users  \n",
       "4          scale real-time supply-chains  "
      ]
     },
     "execution_count": 5,
     "metadata": {},
     "output_type": "execute_result"
    }
   ],
   "source": [
    "num_companies = 10_000\n",
    "company_name_provider = lambda : fake.company() + ' ' + fake.company_suffix()  # Adding suffix give more uniqe names\n",
    "company_names = get_unique_fakes(company_name_provider, num_companies)\n",
    "company_slogans = get_unique_fakes(fake.catch_phrase, num_companies)\n",
    "company_purposes = get_unique_fakes(fake.bs, num_companies)\n",
    "\n",
    "companies = zip(company_names, company_slogans, company_purposes)\n",
    "company_records = [{'name': company[0], 'slogan': company[1], 'purpose': company[2]} for company in companies]\n",
    "companies_df = pd.DataFrame(company_records)\n",
    "companies_df.index.rename('id', inplace=True)\n",
    "companies_df.head()\n",
    "companies_df.to_csv('../seeds/sources/fake_companies.csv')\n"
   ]
  },
  {
   "cell_type": "markdown",
   "metadata": {},
   "source": [
    "## Create fake people"
   ]
  },
  {
   "cell_type": "code",
   "execution_count": 6,
   "metadata": {},
   "outputs": [
    {
     "data": {
      "text/plain": [
       "'37019'"
      ]
     },
     "execution_count": 6,
     "metadata": {},
     "output_type": "execute_result"
    }
   ],
   "source": [
    "fake.zipcode_in_state()"
   ]
  },
  {
   "cell_type": "code",
   "execution_count": 7,
   "metadata": {},
   "outputs": [
    {
     "data": {
      "text/html": [
       "<div>\n",
       "<style scoped>\n",
       "    .dataframe tbody tr th:only-of-type {\n",
       "        vertical-align: middle;\n",
       "    }\n",
       "\n",
       "    .dataframe tbody tr th {\n",
       "        vertical-align: top;\n",
       "    }\n",
       "\n",
       "    .dataframe thead th {\n",
       "        text-align: right;\n",
       "    }\n",
       "</style>\n",
       "<table border=\"1\" class=\"dataframe\">\n",
       "  <thead>\n",
       "    <tr style=\"text-align: right;\">\n",
       "      <th></th>\n",
       "      <th>name</th>\n",
       "      <th>slogan</th>\n",
       "      <th>purpose</th>\n",
       "    </tr>\n",
       "    <tr>\n",
       "      <th>id</th>\n",
       "      <th></th>\n",
       "      <th></th>\n",
       "      <th></th>\n",
       "    </tr>\n",
       "  </thead>\n",
       "  <tbody>\n",
       "    <tr>\n",
       "      <th>0</th>\n",
       "      <td>Moreno, Ramirez and Williams Ltd</td>\n",
       "      <td>Enterprise-wide intermediate framework</td>\n",
       "      <td>productize viral experiences</td>\n",
       "    </tr>\n",
       "    <tr>\n",
       "      <th>1</th>\n",
       "      <td>Bush, Tanner and Alexander Ltd</td>\n",
       "      <td>User-friendly user-facing customer loyalty</td>\n",
       "      <td>innovate mission-critical niches</td>\n",
       "    </tr>\n",
       "    <tr>\n",
       "      <th>2</th>\n",
       "      <td>Armstrong LLC LLC</td>\n",
       "      <td>Up-sized secondary hardware</td>\n",
       "      <td>orchestrate ubiquitous relationships</td>\n",
       "    </tr>\n",
       "    <tr>\n",
       "      <th>3</th>\n",
       "      <td>Henderson, Flowers and Best LLC</td>\n",
       "      <td>Networked asymmetric moratorium</td>\n",
       "      <td>disintermediate B2B users</td>\n",
       "    </tr>\n",
       "    <tr>\n",
       "      <th>4</th>\n",
       "      <td>Leonard, Hamilton and Harper PLC</td>\n",
       "      <td>Enterprise-wide incremental matrices</td>\n",
       "      <td>scale real-time supply-chains</td>\n",
       "    </tr>\n",
       "    <tr>\n",
       "      <th>...</th>\n",
       "      <td>...</td>\n",
       "      <td>...</td>\n",
       "      <td>...</td>\n",
       "    </tr>\n",
       "    <tr>\n",
       "      <th>9995</th>\n",
       "      <td>Marshall LLC Group</td>\n",
       "      <td>Triple-buffered client-driven synergy</td>\n",
       "      <td>reinvent web-enabled info-mediaries</td>\n",
       "    </tr>\n",
       "    <tr>\n",
       "      <th>9996</th>\n",
       "      <td>Lee, Powell and Jackson and Sons</td>\n",
       "      <td>Virtual needs-based installation</td>\n",
       "      <td>grow efficient solutions</td>\n",
       "    </tr>\n",
       "    <tr>\n",
       "      <th>9997</th>\n",
       "      <td>Hendrix-Kaufman PLC</td>\n",
       "      <td>Reduced directional customer loyalty</td>\n",
       "      <td>revolutionize distributed ROI</td>\n",
       "    </tr>\n",
       "    <tr>\n",
       "      <th>9998</th>\n",
       "      <td>Mcdonald-Cummings and Sons</td>\n",
       "      <td>Customer-focused even-keeled info-mediaries</td>\n",
       "      <td>optimize extensible convergence</td>\n",
       "    </tr>\n",
       "    <tr>\n",
       "      <th>9999</th>\n",
       "      <td>Ford, Adams and Burns Inc</td>\n",
       "      <td>User-friendly scalable workforce</td>\n",
       "      <td>exploit bricks-and-clicks users</td>\n",
       "    </tr>\n",
       "  </tbody>\n",
       "</table>\n",
       "<p>10000 rows × 3 columns</p>\n",
       "</div>"
      ],
      "text/plain": [
       "                                  name  \\\n",
       "id                                       \n",
       "0     Moreno, Ramirez and Williams Ltd   \n",
       "1       Bush, Tanner and Alexander Ltd   \n",
       "2                    Armstrong LLC LLC   \n",
       "3      Henderson, Flowers and Best LLC   \n",
       "4     Leonard, Hamilton and Harper PLC   \n",
       "...                                ...   \n",
       "9995                Marshall LLC Group   \n",
       "9996  Lee, Powell and Jackson and Sons   \n",
       "9997               Hendrix-Kaufman PLC   \n",
       "9998        Mcdonald-Cummings and Sons   \n",
       "9999         Ford, Adams and Burns Inc   \n",
       "\n",
       "                                           slogan  \\\n",
       "id                                                  \n",
       "0          Enterprise-wide intermediate framework   \n",
       "1      User-friendly user-facing customer loyalty   \n",
       "2                     Up-sized secondary hardware   \n",
       "3                 Networked asymmetric moratorium   \n",
       "4            Enterprise-wide incremental matrices   \n",
       "...                                           ...   \n",
       "9995        Triple-buffered client-driven synergy   \n",
       "9996             Virtual needs-based installation   \n",
       "9997         Reduced directional customer loyalty   \n",
       "9998  Customer-focused even-keeled info-mediaries   \n",
       "9999             User-friendly scalable workforce   \n",
       "\n",
       "                                   purpose  \n",
       "id                                          \n",
       "0             productize viral experiences  \n",
       "1         innovate mission-critical niches  \n",
       "2     orchestrate ubiquitous relationships  \n",
       "3                disintermediate B2B users  \n",
       "4            scale real-time supply-chains  \n",
       "...                                    ...  \n",
       "9995   reinvent web-enabled info-mediaries  \n",
       "9996              grow efficient solutions  \n",
       "9997         revolutionize distributed ROI  \n",
       "9998       optimize extensible convergence  \n",
       "9999       exploit bricks-and-clicks users  \n",
       "\n",
       "[10000 rows x 3 columns]"
      ]
     },
     "execution_count": 7,
     "metadata": {},
     "output_type": "execute_result"
    }
   ],
   "source": [
    "companies_df"
   ]
  },
  {
   "cell_type": "markdown",
   "metadata": {},
   "source": [
    "## Create dates "
   ]
  },
  {
   "cell_type": "code",
   "execution_count": 8,
   "metadata": {},
   "outputs": [
    {
     "data": {
      "text/html": [
       "<div>\n",
       "<style scoped>\n",
       "    .dataframe tbody tr th:only-of-type {\n",
       "        vertical-align: middle;\n",
       "    }\n",
       "\n",
       "    .dataframe tbody tr th {\n",
       "        vertical-align: top;\n",
       "    }\n",
       "\n",
       "    .dataframe thead th {\n",
       "        text-align: right;\n",
       "    }\n",
       "</style>\n",
       "<table border=\"1\" class=\"dataframe\">\n",
       "  <thead>\n",
       "    <tr style=\"text-align: right;\">\n",
       "      <th></th>\n",
       "      <th>date</th>\n",
       "    </tr>\n",
       "  </thead>\n",
       "  <tbody>\n",
       "    <tr>\n",
       "      <th>0</th>\n",
       "      <td>2020-01-01</td>\n",
       "    </tr>\n",
       "    <tr>\n",
       "      <th>1</th>\n",
       "      <td>2020-01-02</td>\n",
       "    </tr>\n",
       "    <tr>\n",
       "      <th>2</th>\n",
       "      <td>2020-01-03</td>\n",
       "    </tr>\n",
       "    <tr>\n",
       "      <th>3</th>\n",
       "      <td>2020-01-04</td>\n",
       "    </tr>\n",
       "    <tr>\n",
       "      <th>4</th>\n",
       "      <td>2020-01-05</td>\n",
       "    </tr>\n",
       "  </tbody>\n",
       "</table>\n",
       "</div>"
      ],
      "text/plain": [
       "         date\n",
       "0  2020-01-01\n",
       "1  2020-01-02\n",
       "2  2020-01-03\n",
       "3  2020-01-04\n",
       "4  2020-01-05"
      ]
     },
     "execution_count": 8,
     "metadata": {},
     "output_type": "execute_result"
    }
   ],
   "source": [
    "start_date = date(2020, 1, 1)\n",
    "end_date = date(2029, 12, 31)\n",
    "num_added_days = (end_date - start_date).days + 1\n",
    "dates = [start_date + timedelta(days=day) for day in range(num_added_days)]\n",
    "dates_df = pd.DataFrame({'date': dates})\n",
    "dates_df.head()\n",
    "dates_df.to_csv('../seeds/sources/fake_dates.csv', index=False)"
   ]
  },
  {
   "cell_type": "markdown",
   "metadata": {},
   "source": [
    "## Create number range"
   ]
  },
  {
   "cell_type": "code",
   "execution_count": 10,
   "metadata": {},
   "outputs": [
    {
     "data": {
      "text/html": [
       "<div>\n",
       "<style scoped>\n",
       "    .dataframe tbody tr th:only-of-type {\n",
       "        vertical-align: middle;\n",
       "    }\n",
       "\n",
       "    .dataframe tbody tr th {\n",
       "        vertical-align: top;\n",
       "    }\n",
       "\n",
       "    .dataframe thead th {\n",
       "        text-align: right;\n",
       "    }\n",
       "</style>\n",
       "<table border=\"1\" class=\"dataframe\">\n",
       "  <thead>\n",
       "    <tr style=\"text-align: right;\">\n",
       "      <th></th>\n",
       "      <th>number</th>\n",
       "    </tr>\n",
       "  </thead>\n",
       "  <tbody>\n",
       "    <tr>\n",
       "      <th>0</th>\n",
       "      <td>1</td>\n",
       "    </tr>\n",
       "    <tr>\n",
       "      <th>1</th>\n",
       "      <td>2</td>\n",
       "    </tr>\n",
       "    <tr>\n",
       "      <th>2</th>\n",
       "      <td>2</td>\n",
       "    </tr>\n",
       "    <tr>\n",
       "      <th>3</th>\n",
       "      <td>3</td>\n",
       "    </tr>\n",
       "    <tr>\n",
       "      <th>4</th>\n",
       "      <td>3</td>\n",
       "    </tr>\n",
       "    <tr>\n",
       "      <th>5</th>\n",
       "      <td>3</td>\n",
       "    </tr>\n",
       "    <tr>\n",
       "      <th>6</th>\n",
       "      <td>4</td>\n",
       "    </tr>\n",
       "    <tr>\n",
       "      <th>7</th>\n",
       "      <td>4</td>\n",
       "    </tr>\n",
       "    <tr>\n",
       "      <th>8</th>\n",
       "      <td>4</td>\n",
       "    </tr>\n",
       "    <tr>\n",
       "      <th>9</th>\n",
       "      <td>4</td>\n",
       "    </tr>\n",
       "  </tbody>\n",
       "</table>\n",
       "</div>"
      ],
      "text/plain": [
       "   number\n",
       "0       1\n",
       "1       2\n",
       "2       2\n",
       "3       3\n",
       "4       3\n",
       "5       3\n",
       "6       4\n",
       "7       4\n",
       "8       4\n",
       "9       4"
      ]
     },
     "execution_count": 10,
     "metadata": {},
     "output_type": "execute_result"
    }
   ],
   "source": [
    "numbers = []\n",
    "for number in range(1, 101):\n",
    "    numbers.extend([number] * number)\n",
    "numbers_df = pd.DataFrame({'number': numbers})\n",
    "numbers_df.head(10)\n",
    "numbers_df.to_csv('../seeds/sources/fake_numbers.csv', index=False)"
   ]
  },
  {
   "cell_type": "markdown",
   "metadata": {},
   "source": [
    "## Create fake products"
   ]
  },
  {
   "cell_type": "code",
   "execution_count": 11,
   "metadata": {},
   "outputs": [
    {
     "data": {
      "text/plain": [
       "'Mouse'"
      ]
     },
     "execution_count": 11,
     "metadata": {},
     "output_type": "execute_result"
    }
   ],
   "source": [
    "fake.ecommerce_name()"
   ]
  },
  {
   "cell_type": "code",
   "execution_count": 12,
   "metadata": {},
   "outputs": [
    {
     "data": {
      "text/plain": [
       "'Automotive'"
      ]
     },
     "execution_count": 12,
     "metadata": {},
     "output_type": "execute_result"
    }
   ],
   "source": [
    "fake.ecommerce_category()"
   ]
  },
  {
   "cell_type": "code",
   "execution_count": 13,
   "metadata": {},
   "outputs": [
    {
     "data": {
      "text/plain": [
       "87798985"
      ]
     },
     "execution_count": 13,
     "metadata": {},
     "output_type": "execute_result"
    }
   ],
   "source": [
    "fake.ecommerce_price()"
   ]
  },
  {
   "cell_type": "code",
   "execution_count": 14,
   "metadata": {},
   "outputs": [
    {
     "data": {
      "text/plain": [
       "198.46"
      ]
     },
     "execution_count": 14,
     "metadata": {},
     "output_type": "execute_result"
    }
   ],
   "source": [
    "random.randrange(3, 2500) + random.randrange(0, 99) / 100"
   ]
  },
  {
   "cell_type": "code",
   "execution_count": 15,
   "metadata": {},
   "outputs": [
    {
     "data": {
      "text/html": [
       "<div>\n",
       "<style scoped>\n",
       "    .dataframe tbody tr th:only-of-type {\n",
       "        vertical-align: middle;\n",
       "    }\n",
       "\n",
       "    .dataframe tbody tr th {\n",
       "        vertical-align: top;\n",
       "    }\n",
       "\n",
       "    .dataframe thead th {\n",
       "        text-align: right;\n",
       "    }\n",
       "</style>\n",
       "<table border=\"1\" class=\"dataframe\">\n",
       "  <thead>\n",
       "    <tr style=\"text-align: right;\">\n",
       "      <th></th>\n",
       "      <th>category</th>\n",
       "      <th>name</th>\n",
       "      <th>price</th>\n",
       "    </tr>\n",
       "    <tr>\n",
       "      <th>id</th>\n",
       "      <th></th>\n",
       "      <th></th>\n",
       "      <th></th>\n",
       "    </tr>\n",
       "  </thead>\n",
       "  <tbody>\n",
       "    <tr>\n",
       "      <th>0</th>\n",
       "      <td>Clothing</td>\n",
       "      <td>Handcrafted Rubber Ball</td>\n",
       "      <td>902.07</td>\n",
       "    </tr>\n",
       "    <tr>\n",
       "      <th>1</th>\n",
       "      <td>Tools</td>\n",
       "      <td>Soap</td>\n",
       "      <td>73.97</td>\n",
       "    </tr>\n",
       "    <tr>\n",
       "      <th>2</th>\n",
       "      <td>Books</td>\n",
       "      <td>Awesome Granite Fish</td>\n",
       "      <td>955.65</td>\n",
       "    </tr>\n",
       "    <tr>\n",
       "      <th>3</th>\n",
       "      <td>Computers</td>\n",
       "      <td>Unbranded Cotton Cheese</td>\n",
       "      <td>1953.43</td>\n",
       "    </tr>\n",
       "    <tr>\n",
       "      <th>4</th>\n",
       "      <td>Automotive</td>\n",
       "      <td>Fresh Hat</td>\n",
       "      <td>1624.35</td>\n",
       "    </tr>\n",
       "    <tr>\n",
       "      <th>...</th>\n",
       "      <td>...</td>\n",
       "      <td>...</td>\n",
       "      <td>...</td>\n",
       "    </tr>\n",
       "    <tr>\n",
       "      <th>9995</th>\n",
       "      <td>Grocery</td>\n",
       "      <td>Wooden Chicken</td>\n",
       "      <td>1272.48</td>\n",
       "    </tr>\n",
       "    <tr>\n",
       "      <th>9996</th>\n",
       "      <td>Electronics</td>\n",
       "      <td>Chicken</td>\n",
       "      <td>1511.51</td>\n",
       "    </tr>\n",
       "    <tr>\n",
       "      <th>9997</th>\n",
       "      <td>Home</td>\n",
       "      <td>Generic Bike</td>\n",
       "      <td>1144.81</td>\n",
       "    </tr>\n",
       "    <tr>\n",
       "      <th>9998</th>\n",
       "      <td>Electronics</td>\n",
       "      <td>Hat</td>\n",
       "      <td>579.23</td>\n",
       "    </tr>\n",
       "    <tr>\n",
       "      <th>9999</th>\n",
       "      <td>Jewelery</td>\n",
       "      <td>Concrete Shoes</td>\n",
       "      <td>1626.08</td>\n",
       "    </tr>\n",
       "  </tbody>\n",
       "</table>\n",
       "<p>10000 rows × 3 columns</p>\n",
       "</div>"
      ],
      "text/plain": [
       "         category                     name    price\n",
       "id                                                 \n",
       "0        Clothing  Handcrafted Rubber Ball   902.07\n",
       "1           Tools                     Soap    73.97\n",
       "2           Books     Awesome Granite Fish   955.65\n",
       "3       Computers  Unbranded Cotton Cheese  1953.43\n",
       "4      Automotive                Fresh Hat  1624.35\n",
       "...           ...                      ...      ...\n",
       "9995      Grocery           Wooden Chicken  1272.48\n",
       "9996  Electronics                  Chicken  1511.51\n",
       "9997         Home             Generic Bike  1144.81\n",
       "9998  Electronics                      Hat   579.23\n",
       "9999     Jewelery           Concrete Shoes  1626.08\n",
       "\n",
       "[10000 rows x 3 columns]"
      ]
     },
     "execution_count": 15,
     "metadata": {},
     "output_type": "execute_result"
    }
   ],
   "source": [
    "def generate_product():\n",
    "    return {\n",
    "        'category': fake.ecommerce_category(),\n",
    "        'name': fake.ecommerce_name(),\n",
    "        'price': random.randrange(3, 2500) + random.randrange(0, 99) / 100\n",
    "    }\n",
    "            \n",
    "products = [generate_product() for i in range(10_000)]\n",
    "products_df = pd.DataFrame(products)\n",
    "products_df.index.rename('id', inplace=True)\n",
    "products_df\n",
    "products_df.to_csv('../seeds/sources/fake_products.csv', index=True)\n"
   ]
  },
  {
   "cell_type": "markdown",
   "metadata": {},
   "source": [
    "## Create fake People info"
   ]
  },
  {
   "cell_type": "code",
   "execution_count": 24,
   "metadata": {},
   "outputs": [],
   "source": [
    "def generate_people_info():\n",
    "    country_code = random.choice(['+1', '+44', '+91', '+81', '+86'])  # Add more country codes as needed\n",
    "    phone_number = fake.numerify('##########')  # Assuming 10-digit phone numbers\n",
    "\n",
    "    return {\n",
    "        'phone_number': f'{country_code} - {phone_number}',\n",
    "        'address': {\n",
    "            'street_address': fake.street_address(),\n",
    "            'city': fake.city(),\n",
    "            'state': fake.state(),\n",
    "            'zipcode': fake.zipcode(),\n",
    "        },\n",
    "        'birthdate': fake.date_of_birth(minimum_age=18, maximum_age=80).strftime('%Y-%m-%d'),\n",
    "        'blood_type': random.choice(['A+', 'B+', 'AB+', 'O+', 'A-', 'B-', 'AB-', 'O-']),  # Less common column\n",
    "        'favorite_color': fake.color_name(),  # Less common column\n",
    "        'credit_score': random.randint(300, 850),  # Less common column\n",
    "    }\n",
    "\n",
    "p_info = [generate_people_info() for _ in range(10_000)]\n",
    "p_info_df = pd.DataFrame(p_info)\n",
    "p_info_df.index.rename('id', inplace=True)\n",
    "\n",
    "# Display the DataFrame\n",
    "p_info_df.head()\n",
    "p_info_df.to_csv('../seeds/sources/fake_personal_info.csv')\n"
   ]
  }
 ],
 "metadata": {
  "kernelspec": {
   "display_name": "Python 3 (ipykernel)",
   "language": "python",
   "name": "python3"
  },
  "language_info": {
   "codemirror_mode": {
    "name": "ipython",
    "version": 3
   },
   "file_extension": ".py",
   "mimetype": "text/x-python",
   "name": "python",
   "nbconvert_exporter": "python",
   "pygments_lexer": "ipython3",
   "version": "3.10.9"
  }
 },
 "nbformat": 4,
 "nbformat_minor": 2
}
